{
  "nbformat": 4,
  "nbformat_minor": 0,
  "metadata": {
    "colab": {
      "name": "melanomaDetection.ipynb",
      "provenance": [],
      "collapsed_sections": [],
      "include_colab_link": true
    },
    "kernelspec": {
      "name": "python3",
      "display_name": "Python 3"
    },
    "accelerator": "GPU"
  },
  "cells": [
    {
      "cell_type": "markdown",
      "metadata": {
        "id": "view-in-github",
        "colab_type": "text"
      },
      "source": [
        "<a href=\"https://colab.research.google.com/github/AnweshCR7/DL_boilerplate/blob/main/DemoNotebook.ipynb\" target=\"_parent\"><img src=\"https://colab.research.google.com/assets/colab-badge.svg\" alt=\"Open In Colab\"/></a>"
      ]
    },
    {
      "cell_type": "code",
      "metadata": {
        "colab": {
          "base_uri": "https://localhost:8080/"
        },
        "id": "QMRaimMFMErb",
        "outputId": "1fec65ad-be6c-4b63-b80e-98b1e41e4ac3"
      },
      "source": [
        "# Mount Google Drive\n",
        "from google.colab import drive # import drive from google colab\n",
        "\n",
        "ROOT = \"/content/drive\"     # default location for the drive\n",
        "print(ROOT)                 # print content of ROOT (Optional)\n",
        "\n",
        "drive.mount(ROOT)           # we mount the google drive at /content/drive"
      ],
      "execution_count": 13,
      "outputs": [
        {
          "output_type": "stream",
          "text": [
            "/content/drive\n",
            "Drive already mounted at /content/drive; to attempt to forcibly remount, call drive.mount(\"/content/drive\", force_remount=True).\n"
          ],
          "name": "stdout"
        }
      ]
    },
    {
      "cell_type": "code",
      "metadata": {
        "colab": {
          "base_uri": "https://localhost:8080/"
        },
        "id": "mFWquqGJMXs0",
        "outputId": "45551f54-8b6c-4749-d21d-6f548a0c4ef7"
      },
      "source": [
        "# Clone github repository setup\n",
        "from os.path import join  \n",
        "\n",
        "# path to your project on Google Drive\n",
        "MY_GOOGLE_DRIVE_PATH = 'My Drive/MyDrive/' \n",
        "\n",
        "# your Github username \n",
        "GIT_USERNAME = \"{GITHUB USERNAME}\" \n",
        "# GitHub access token\n",
        "GIT_TOKEN = \"{GITHUB TOKEN}\"  \n",
        "# Replace with your github repository\n",
        "GIT_REPOSITORY = \"DL_boilerplate\" \n",
        "\n",
        "PROJECT_PATH = join(ROOT, MY_GOOGLE_DRIVE_PATH)\n",
        "\n",
        "print(\"PROJECT_PATH: \", PROJECT_PATH)   \n",
        "\n",
        "# # In case we haven't created the folder already; we will create a folder in the project path \n",
        "# !mkdir \"{PROJECT_PATH}\"    \n",
        "\n",
        "GIT_PATH = f\"https://{GIT_TOKEN}@github.com/{GIT_USERNAME}/{GIT_REPOSITORY}.git\"\n",
        "print(\"GIT_PATH: \", GIT_PATH)\n",
        "GIT_BRANCH = \"main\""
      ],
      "execution_count": 14,
      "outputs": [
        {
          "output_type": "stream",
          "text": [
            "PROJECT_PATH:  /content/drive/My Drive/MyDrive/\n",
            "GIT_PATH:  https://{a675a49eff6b8a3df6aad1c1c2cea844c3fdeeb2}@github.com/anweshcr7/DL_boilerplate.git\n"
          ],
          "name": "stdout"
        }
      ]
    },
    {
      "cell_type": "code",
      "metadata": {
        "colab": {
          "base_uri": "https://localhost:8080/"
        },
        "id": "aYKVgctbOAnp",
        "outputId": "1a99f760-80c0-46b6-aca7-37798e3193ad"
      },
      "source": [
        "%rm -r /content/DL_boilerplate/\n",
        "# EXEC_COMMAND = f\"-b {GIT_BRANCH} {GIT_PATH}\"\n",
        "!git clone -b \"{GIT_BRANCH}\" \"{GIT_PATH}\""
      ],
      "execution_count": 16,
      "outputs": [
        {
          "output_type": "stream",
          "text": [
            "Cloning into 'DL_boilerplate'...\n",
            "remote: Enumerating objects: 30, done.\u001b[K\n",
            "remote: Counting objects: 100% (30/30), done.\u001b[K\n",
            "remote: Compressing objects: 100% (25/25), done.\u001b[K\n",
            "remote: Total 30 (delta 8), reused 20 (delta 4), pack-reused 0\u001b[K\n",
            "Unpacking objects: 100% (30/30), done.\n"
          ],
          "name": "stdout"
        }
      ]
    },
    {
      "cell_type": "code",
      "metadata": {
        "colab": {
          "base_uri": "https://localhost:8080/"
        },
        "id": "UVkBhRqEQK9L",
        "outputId": "cfae1561-bd91-4322-b565-1853207e631a"
      },
      "source": [
        "!python3 /content/DL_boilerplate/src/main.py "
      ],
      "execution_count": 18,
      "outputs": [
        {
          "output_type": "stream",
          "text": [
            "GPU available... using GPU\n",
            "100% 1875/1875 [00:17<00:00, 105.36it/s]\n",
            "Saved!\n",
            "100% 313/313 [00:02<00:00, 124.59it/s]\n",
            "Epoch 0 => Training Loss: 0.19766141367604334, Val Loss: 0.05979700740503025\n",
            "100% 1875/1875 [00:17<00:00, 104.25it/s]\n",
            "Saved!\n",
            "100% 313/313 [00:02<00:00, 114.15it/s]\n",
            "Epoch 1 => Training Loss: 0.05563460199572146, Val Loss: 0.039060163388883073\n",
            "100% 1875/1875 [00:18<00:00, 99.60it/s]\n",
            "Saved!\n",
            "100% 313/313 [00:02<00:00, 121.64it/s]\n",
            "Epoch 2 => Training Loss: 0.03707047849864078, Val Loss: 0.0323324040974794\n",
            "100% 1875/1875 [00:18<00:00, 100.07it/s]\n",
            "Saved!\n",
            "100% 313/313 [00:02<00:00, 120.85it/s]\n",
            "Epoch 3 => Training Loss: 0.027940944086847594, Val Loss: 0.02903405395759931\n",
            "100% 1875/1875 [00:18<00:00, 101.86it/s]\n",
            "Saved!\n",
            "100% 313/313 [00:02<00:00, 134.51it/s]\n",
            "Epoch 4 => Training Loss: 0.020424689519958336, Val Loss: 0.03015474373615215\n",
            "100% 1875/1875 [00:17<00:00, 105.84it/s]\n",
            "Saved!\n",
            "100% 313/313 [00:02<00:00, 133.46it/s]\n",
            "Epoch 5 => Training Loss: 0.01611058505279458, Val Loss: 0.026433935853666494\n",
            "100% 1875/1875 [00:18<00:00, 102.68it/s]\n",
            "Saved!\n",
            "100% 313/313 [00:02<00:00, 129.28it/s]\n",
            "Epoch 6 => Training Loss: 0.013548866433653165, Val Loss: 0.027602487027936874\n",
            "100% 1875/1875 [00:17<00:00, 104.42it/s]\n",
            "Saved!\n",
            "100% 313/313 [00:02<00:00, 133.54it/s]\n",
            "Epoch 7 => Training Loss: 0.01068355406346988, Val Loss: 0.030769745317247334\n",
            "100% 1875/1875 [00:18<00:00, 101.77it/s]\n",
            "Saved!\n",
            "100% 313/313 [00:02<00:00, 128.57it/s]\n",
            "Epoch 8 => Training Loss: 0.007954271178089523, Val Loss: 0.04250151148297651\n",
            "100% 1875/1875 [00:17<00:00, 104.32it/s]\n",
            "Saved!\n",
            "100% 313/313 [00:02<00:00, 116.59it/s]\n",
            "Epoch 9 => Training Loss: 0.007675014509890358, Val Loss: 0.031255505094597145\n",
            "<Figure size 640x480 with 1 Axes>\n",
            "done\n"
          ],
          "name": "stdout"
        }
      ]
    }
  ]
}